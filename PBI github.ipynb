{
 "cells": [
  {
   "cell_type": "code",
   "execution_count": 2,
   "id": "e53b6ad6",
   "metadata": {},
   "outputs": [],
   "source": [
    "from zipfile import ZipFile\n",
    "import json\n",
    "import os"
   ]
  },
  {
   "cell_type": "code",
   "execution_count": 83,
   "id": "dc02dff6",
   "metadata": {},
   "outputs": [],
   "source": [
    "class report_layout:\n",
    "    \n",
    "    def __init__(self, full_path):\n",
    "        self.path = full_path\n",
    "        if not (os.path.isfile(self.path) and self.path[-5:] == '.pbix'):\n",
    "            raise ValueError('There is no such \".pbix\" file in the directory')\n",
    "    \n",
    "    def unpacked_json(self):\n",
    "        with ZipFile(self.path, 'r') as zip_file:\n",
    "            imgdata = zip_file.read('Report/Layout')\n",
    "        data = json.loads(imgdata.decode('utf16'))\n",
    "        return data        "
   ]
  },
  {
   "cell_type": "code",
   "execution_count": 137,
   "id": "50872d06",
   "metadata": {},
   "outputs": [],
   "source": [
    "def compare(unpacked_json_prev, unpacked_json_next):\n",
    "    changed_pages = []\n",
    "    sections_prev, sections_next = unpacked_json_prev['sections'], unpacked_json_next['sections']\n",
    "    if len(sections_prev) > len(sections_next):\n",
    "        return \"delete some report pages\"\n",
    "    elif len(sections_prev) < len(sections_next):\n",
    "        return \"add some report pages\"\n",
    "    else:\n",
    "        for page in range(len(sections_prev)):\n",
    "            if len(sections_prev[page]['visualContainers']) \\\n",
    "            != len(sections_next[page]['visualContainers']):\n",
    "                changed_pages.append(page)\n",
    "        if len(changed_pages) != 0:\n",
    "            return f\"changed visuals on pages {changed_pages}\"\n",
    "        else:\n",
    "            return \"changes undefined\""
   ]
  }
 ],
 "metadata": {
  "kernelspec": {
   "display_name": "Python 3",
   "language": "python",
   "name": "python3"
  },
  "language_info": {
   "codemirror_mode": {
    "name": "ipython",
    "version": 3
   },
   "file_extension": ".py",
   "mimetype": "text/x-python",
   "name": "python",
   "nbconvert_exporter": "python",
   "pygments_lexer": "ipython3",
   "version": "3.8.8"
  }
 },
 "nbformat": 4,
 "nbformat_minor": 5
}
